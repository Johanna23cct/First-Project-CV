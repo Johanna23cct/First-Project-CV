{
 "cells": [
  {
   "cell_type": "code",
   "execution_count": null,
   "id": "b361fe32",
   "metadata": {},
   "outputs": [],
   "source": [
    "# CV Johanna"
   ]
  },
  {
   "cell_type": "code",
   "execution_count": null,
   "id": "1d6b90b1",
   "metadata": {},
   "outputs": [],
   "source": [
    "pip install matplotlib"
   ]
  },
  {
   "cell_type": "code",
   "execution_count": null,
   "id": "7fafc06c",
   "metadata": {},
   "outputs": [],
   "source": [
    "import matplotlib.pyplot as plt\n",
    "\n",
    "def generate_cv():\n",
    "    plt.figure(figsize=(8.5, 11))\n",
    "    plt.text(0.5, 0.5, \"Your CV Content\", ha='center', va='center', fontsize=12)\n",
    "    plt.axis('off')\n",
    "    plt.savefig('cv.png', dpi=300, bbox_inches='tight')\n",
    "\n",
    "if __name__ == \"__main__\":\n",
    "    generate_cv()"
   ]
  },
  {
   "cell_type": "code",
   "execution_count": null,
   "id": "2e0165d5",
   "metadata": {},
   "outputs": [],
   "source": []
  },
  {
   "cell_type": "code",
   "execution_count": null,
   "id": "0a5efdbe",
   "metadata": {},
   "outputs": [],
   "source": []
  }
 ],
 "metadata": {
  "kernelspec": {
   "display_name": "Python 3 (ipykernel)",
   "language": "python",
   "name": "python3"
  },
  "language_info": {
   "codemirror_mode": {
    "name": "ipython",
    "version": 3
   },
   "file_extension": ".py",
   "mimetype": "text/x-python",
   "name": "python",
   "nbconvert_exporter": "python",
   "pygments_lexer": "ipython3",
   "version": "3.9.13"
  }
 },
 "nbformat": 4,
 "nbformat_minor": 5
}
